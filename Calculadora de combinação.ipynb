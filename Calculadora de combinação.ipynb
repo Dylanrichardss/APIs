{
 "cells": [
  {
   "cell_type": "code",
   "execution_count": 38,
   "metadata": {},
   "outputs": [
    {
     "name": "stdout",
     "output_type": "stream",
     "text": [
      "Dylan\n",
      "Rocket League\n",
      "Porcentagem: 99%\n"
     ]
    }
   ],
   "source": [
    "import requests\n",
    "\n",
    "url = \"https://love-calculator.p.rapidapi.com/getPercentage\"\n",
    "b = \"Dylan\"\n",
    "c = \"Rocket League\"\n",
    "\n",
    "querystring = {\"sname\":b,\"fname\":c}\n",
    "\n",
    "headers = {\n",
    "\t\"X-RapidAPI-Key\": \"2397504bfamshf76b496e3dc8f8cp194698jsn0164748ddab7\",\n",
    "\t\"X-RapidAPI-Host\": \"love-calculator.p.rapidapi.com\"\n",
    "}\n",
    "\n",
    "response = requests.get(url, headers=headers, params=querystring)\n",
    "\n",
    "a = response.json()\n",
    "\n",
    "print(a.get(\"sname\"))\n",
    "print(a.get(\"fname\"))\n",
    "print(f'Porcentagem: {a.get(\"percentage\")}%')"
   ]
  }
 ],
 "metadata": {
  "kernelspec": {
   "display_name": "Python 3",
   "language": "python",
   "name": "python3"
  },
  "language_info": {
   "codemirror_mode": {
    "name": "ipython",
    "version": 3
   },
   "file_extension": ".py",
   "mimetype": "text/x-python",
   "name": "python",
   "nbconvert_exporter": "python",
   "pygments_lexer": "ipython3",
   "version": "3.9.13"
  }
 },
 "nbformat": 4,
 "nbformat_minor": 2
}
